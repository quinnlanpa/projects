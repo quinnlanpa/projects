{
  "nbformat": 4,
  "nbformat_minor": 0,
  "metadata": {
    "colab": {
      "provenance": [],
      "gpuType": "T4"
    },
    "kernelspec": {
      "name": "python3",
      "display_name": "Python 3"
    },
    "language_info": {
      "name": "python"
    },
    "accelerator": "GPU"
  },
  "cells": [
    {
      "cell_type": "code",
      "source": [
        "#adding google drive\n",
        "from google.colab import drive\n",
        "drive.mount(\"/content/drive/\")\n",
        "drive_path=\"/content/drive/MyDrive\"\n",
        "\n"
      ],
      "metadata": {
        "colab": {
          "base_uri": "https://localhost:8080/"
        },
        "id": "Xnr4nx1mIyph",
        "outputId": "fbbfafdd-505d-4fc7-e8f7-5610ae54664c"
      },
      "execution_count": null,
      "outputs": [
        {
          "output_type": "stream",
          "name": "stdout",
          "text": [
            "Drive already mounted at /content/drive/; to attempt to forcibly remount, call drive.mount(\"/content/drive/\", force_remount=True).\n"
          ]
        }
      ]
    },
    {
      "cell_type": "code",
      "source": [
        "pip install segmentation-models-pytorch\n"
      ],
      "metadata": {
        "colab": {
          "base_uri": "https://localhost:8080/"
        },
        "id": "u2ucJiwdDLhL",
        "outputId": "8bb3a640-d35e-43e4-d122-1e874702b2c7"
      },
      "execution_count": null,
      "outputs": [
        {
          "output_type": "stream",
          "name": "stdout",
          "text": [
            "Requirement already satisfied: segmentation-models-pytorch in /usr/local/lib/python3.10/dist-packages (0.3.4)\n",
            "Requirement already satisfied: efficientnet-pytorch==0.7.1 in /usr/local/lib/python3.10/dist-packages (from segmentation-models-pytorch) (0.7.1)\n",
            "Requirement already satisfied: huggingface-hub>=0.24.6 in /usr/local/lib/python3.10/dist-packages (from segmentation-models-pytorch) (0.26.3)\n",
            "Requirement already satisfied: pillow in /usr/local/lib/python3.10/dist-packages (from segmentation-models-pytorch) (11.0.0)\n",
            "Requirement already satisfied: pretrainedmodels==0.7.4 in /usr/local/lib/python3.10/dist-packages (from segmentation-models-pytorch) (0.7.4)\n",
            "Requirement already satisfied: six in /usr/local/lib/python3.10/dist-packages (from segmentation-models-pytorch) (1.16.0)\n",
            "Requirement already satisfied: timm==0.9.7 in /usr/local/lib/python3.10/dist-packages (from segmentation-models-pytorch) (0.9.7)\n",
            "Requirement already satisfied: torchvision>=0.5.0 in /usr/local/lib/python3.10/dist-packages (from segmentation-models-pytorch) (0.20.1+cu121)\n",
            "Requirement already satisfied: tqdm in /usr/local/lib/python3.10/dist-packages (from segmentation-models-pytorch) (4.66.6)\n",
            "Requirement already satisfied: torch in /usr/local/lib/python3.10/dist-packages (from efficientnet-pytorch==0.7.1->segmentation-models-pytorch) (2.5.1+cu121)\n",
            "Requirement already satisfied: munch in /usr/local/lib/python3.10/dist-packages (from pretrainedmodels==0.7.4->segmentation-models-pytorch) (4.0.0)\n",
            "Requirement already satisfied: pyyaml in /usr/local/lib/python3.10/dist-packages (from timm==0.9.7->segmentation-models-pytorch) (6.0.2)\n",
            "Requirement already satisfied: safetensors in /usr/local/lib/python3.10/dist-packages (from timm==0.9.7->segmentation-models-pytorch) (0.4.5)\n",
            "Requirement already satisfied: filelock in /usr/local/lib/python3.10/dist-packages (from huggingface-hub>=0.24.6->segmentation-models-pytorch) (3.16.1)\n",
            "Requirement already satisfied: fsspec>=2023.5.0 in /usr/local/lib/python3.10/dist-packages (from huggingface-hub>=0.24.6->segmentation-models-pytorch) (2024.10.0)\n",
            "Requirement already satisfied: packaging>=20.9 in /usr/local/lib/python3.10/dist-packages (from huggingface-hub>=0.24.6->segmentation-models-pytorch) (24.2)\n",
            "Requirement already satisfied: requests in /usr/local/lib/python3.10/dist-packages (from huggingface-hub>=0.24.6->segmentation-models-pytorch) (2.32.3)\n",
            "Requirement already satisfied: typing-extensions>=3.7.4.3 in /usr/local/lib/python3.10/dist-packages (from huggingface-hub>=0.24.6->segmentation-models-pytorch) (4.12.2)\n",
            "Requirement already satisfied: numpy in /usr/local/lib/python3.10/dist-packages (from torchvision>=0.5.0->segmentation-models-pytorch) (1.26.4)\n",
            "Requirement already satisfied: networkx in /usr/local/lib/python3.10/dist-packages (from torch->efficientnet-pytorch==0.7.1->segmentation-models-pytorch) (3.4.2)\n",
            "Requirement already satisfied: jinja2 in /usr/local/lib/python3.10/dist-packages (from torch->efficientnet-pytorch==0.7.1->segmentation-models-pytorch) (3.1.4)\n",
            "Requirement already satisfied: sympy==1.13.1 in /usr/local/lib/python3.10/dist-packages (from torch->efficientnet-pytorch==0.7.1->segmentation-models-pytorch) (1.13.1)\n",
            "Requirement already satisfied: mpmath<1.4,>=1.1.0 in /usr/local/lib/python3.10/dist-packages (from sympy==1.13.1->torch->efficientnet-pytorch==0.7.1->segmentation-models-pytorch) (1.3.0)\n",
            "Requirement already satisfied: charset-normalizer<4,>=2 in /usr/local/lib/python3.10/dist-packages (from requests->huggingface-hub>=0.24.6->segmentation-models-pytorch) (3.4.0)\n",
            "Requirement already satisfied: idna<4,>=2.5 in /usr/local/lib/python3.10/dist-packages (from requests->huggingface-hub>=0.24.6->segmentation-models-pytorch) (3.10)\n",
            "Requirement already satisfied: urllib3<3,>=1.21.1 in /usr/local/lib/python3.10/dist-packages (from requests->huggingface-hub>=0.24.6->segmentation-models-pytorch) (2.2.3)\n",
            "Requirement already satisfied: certifi>=2017.4.17 in /usr/local/lib/python3.10/dist-packages (from requests->huggingface-hub>=0.24.6->segmentation-models-pytorch) (2024.8.30)\n",
            "Requirement already satisfied: MarkupSafe>=2.0 in /usr/local/lib/python3.10/dist-packages (from jinja2->torch->efficientnet-pytorch==0.7.1->segmentation-models-pytorch) (3.0.2)\n"
          ]
        }
      ]
    },
    {
      "cell_type": "markdown",
      "source": [
        "UNET\n",
        "\n",
        "\n"
      ],
      "metadata": {
        "id": "jzWNDJpVg2xt"
      }
    },
    {
      "cell_type": "code",
      "source": [
        "import torch\n",
        "import torch.nn as nn\n",
        "import torchvision.transforms.functional as TF\n",
        "\n",
        "class DoubleConv(nn.Module):\n",
        "  def __init__(self, in_channels, out_channels):\n",
        "    super(DoubleConv,self).__init__()\n",
        "    self.conv=nn.Sequential(\n",
        "        nn.Conv2d(in_channels,out_channels, 3,1,1, bias=False),\n",
        "        nn.BatchNorm2d(out_channels),\n",
        "        nn.ReLU(inplace=True),\n",
        "        nn.Conv2d(out_channels,out_channels, 3,1,1, bias=False),\n",
        "        nn.BatchNorm2d(out_channels),\n",
        "        nn.ReLU(inplace=True),\n",
        "    )\n",
        "  def forward (self,x):\n",
        "    return self.conv(x)\n",
        "\n",
        "class UNET(nn.Module):\n",
        "    def __init__(\n",
        "        self, in_channels=3, out_channels=1, features=[64,128,256,512],\n",
        "    ):\n",
        "      super(UNET,self).__init__()\n",
        "      self.ups = nn.ModuleList()\n",
        "      self.downs = nn.ModuleList()\n",
        "      self.pool=nn.MaxPool2d(kernel_size=2, stride=2)\n",
        "\n",
        "      # down part\n",
        "      for feature in features:\n",
        "        self.downs.append(DoubleConv(in_channels,feature))\n",
        "        in_channels = feature\n",
        "\n",
        "      # up part\n",
        "      for feature in reversed(features):\n",
        "        self.ups.append(\n",
        "            nn.ConvTranspose2d(\n",
        "                feature*2,feature, kernel_size=2, stride=2,\n",
        "            )\n",
        "        )\n",
        "        self.ups.append(DoubleConv(feature*2, feature))\n",
        "\n",
        "      self.bottleneck = DoubleConv(features[-1], features[-1]*2)\n",
        "      self.final_conv = nn.Conv2d(features[0], out_channels, kernel_size=1)\n",
        "\n",
        "    def forward(self,x):\n",
        "      skip_connections = []\n",
        "\n",
        "      for down in self.downs:\n",
        "        x=down(x)\n",
        "        skip_connections.append(x)\n",
        "        x=self.pool(x)\n",
        "\n",
        "      x = self.bottleneck(x)\n",
        "      skip_connections=skip_connections[::-1]\n",
        "\n",
        "      for idx in range(0,len(self.ups),2):\n",
        "        x=self.ups[idx](x)\n",
        "        skip_connection=skip_connections[idx//2]\n",
        "\n",
        "        if x.shape != skip_connection.shape:\n",
        "          x = TF.resize(x,size=skip_connection.shape)\n",
        "\n",
        "        concat_skip=torch.cat((skip_connection,x),dim=1)\n",
        "        x=self.ups[idx+1](concat_skip)\n",
        "\n",
        "\n",
        "      return self.final_conv(x)\n",
        "\n",
        "\n",
        "def test():\n",
        "  x=torch.randn((3,1,160,160))\n",
        "  model = UNET(in_channels=1, out_channels=1)\n",
        "  preds = model(x)\n",
        "  print(preds.shape)\n",
        "  print(x.shape)\n",
        "  assert preds.shape == x.shape\n",
        "\n",
        "if __name__==\"__main__\":\n",
        "  test()\n"
      ],
      "metadata": {
        "colab": {
          "base_uri": "https://localhost:8080/"
        },
        "id": "m8slD2blg6-8",
        "outputId": "8ba2ae7d-e7f8-490a-ef18-9d022ece37c2"
      },
      "execution_count": null,
      "outputs": [
        {
          "output_type": "stream",
          "name": "stdout",
          "text": [
            "torch.Size([3, 1, 160, 160])\n",
            "torch.Size([3, 1, 160, 160])\n"
          ]
        }
      ]
    },
    {
      "cell_type": "code",
      "source": [
        "#dataset\n",
        "import os\n",
        "from PIL import Image\n",
        "from torch.utils.data import Dataset\n",
        "import numpy as np\n",
        "\n",
        "class CarvanaDataset(Dataset):\n",
        "  def __init__(self,image_dir, mask_dir, transform=None):\n",
        "    self.image_dir = image_dir\n",
        "    self.mask_dir = mask_dir\n",
        "    self.transform = transform\n",
        "    self.images = os.listdir(image_dir)\n",
        "\n",
        "  def __len__(self):\n",
        "      return len(self.images)\n",
        "\n",
        "  def __getitem__(self,index):\n",
        "      img_path = os.path.join(self.image_dir, self.images[index])\n",
        "      mask_path = os.path.join(self.mask_dir, self.images[index].replace(\".jpg\",\"_mask.gif\"))\n",
        "      image = np.array(Image.open(img_path).convert(\"RGB\"))\n",
        "      mask = np.array(Image.open(mask_path).convert(\"L\"), dtype=np.float32)\n",
        "      # 0.0, 255.0\n",
        "      mask[mask==255.0] = 1.0\n",
        "\n",
        "      if self.transform is not None:\n",
        "        augmentations = self.transform(image=image, mask=mask)\n",
        "        image = augmentations[\"image\"]\n",
        "        mask = augmentations[\"mask\"]\n",
        "\n",
        "      return image, mask\n"
      ],
      "metadata": {
        "id": "LpwCE6zlKGG7"
      },
      "execution_count": null,
      "outputs": []
    },
    {
      "cell_type": "code",
      "source": [
        "#training\n",
        "import torch\n",
        "import albumentations as A\n",
        "from albumentations.pytorch import ToTensorV2\n",
        "from tqdm import tqdm\n",
        "import torch.nn as nn\n",
        "import torch.optim as optim\n",
        "from segmentation_models_pytorch.losses import DiceLoss\n",
        "#from model import UNet\n",
        "\n",
        "#from utils import (\n",
        " #   load_checkpoint, save_checkpoint,\n",
        "  #  getloaders,\n",
        "   # check_accuracy,\n",
        "    #save_predictions_as_imgs,)\n",
        "\n",
        "#hyperparameters\n",
        "LEARNING_RATE = 1E-4\n",
        "DEVICE = \"cuda\"# if torch,cuda.is_available() else \"cpu\"\n",
        "BATCH_SIZE = 16\n",
        "NUM_EPOCHS = 3\n",
        "NUM_WORKERS=2\n",
        "IMAGE_HEIGHT=160 #1280\n",
        "IMAGE_WIDTH=240 #1918\n",
        "PIN_MEMORY=True\n",
        "LOAD_MODEL=False\n",
        "TRAIN_IMG_DIR=\"/content/drive/MyDrive/dataset/train_images\"\n",
        "TRAIN_MASK_DIR=\"/content/drive/MyDrive/dataset/train_mask\"\n",
        "VAL_IMG_DIR=\"/content/drive/MyDrive/dataset/val_images\"\n",
        "VAL_MASK_DIR=\"/content/drive/MyDrive/dataset/val_masks\"\n",
        "\n",
        "def train_fn(loader,model,optimizer,loss_fn,scaler):\n",
        "  loop = tqdm(loader)\n",
        "\n",
        "  for batch_idx, (data, targets) in enumerate(loop):\n",
        "      data = data.to(device=DEVICE)\n",
        "      targets = targets.float().unsqueeze(1).to(device=DEVICE)\n",
        "\n",
        "      #forward\n",
        "      with torch.cuda.amp.autocast(enabled=True):\n",
        "        # predictions = torch.sigmoid(model(data))\n",
        "        predictions = STDsoftmax(model(data))\n",
        "        loss=loss_fn(predictions,targets)\n",
        "\n",
        "      #backward\n",
        "      optimizer.zero_grad()\n",
        "      scaler.scale(loss).backward()\n",
        "      scaler.step(optimizer)\n",
        "      scaler.update()\n",
        "\n",
        "      #update tqdmloop\n",
        "      loop.set_postfix(loss=loss.item())\n",
        "\n",
        "\n",
        "def main():\n",
        "  train_transform = A.Compose(\n",
        "      [\n",
        "          A.Resize(height=IMAGE_HEIGHT,width=IMAGE_WIDTH),\n",
        "          A.Rotate(limit=35, p=1),\n",
        "          A.HorizontalFlip(p=0.5),\n",
        "          A.VerticalFlip(p=0.1),\n",
        "          A.Normalize(\n",
        "              mean=[0.0,0.0,0.0],\n",
        "              std=[1.0,1.0,1.0],\n",
        "              max_pixel_value=255.0,\n",
        "          ),\n",
        "          ToTensorV2()\n",
        "      ],\n",
        "  )\n",
        "\n",
        "  val_transforms = A.Compose(\n",
        "      [\n",
        "          A.Resize(height=IMAGE_HEIGHT,width=IMAGE_WIDTH),\n",
        "          A.Normalize(\n",
        "              mean=[0.0,0.0,0.0],\n",
        "              std=[1.0,1.0,1.0],\n",
        "              max_pixel_value=255.0,\n",
        "          ),\n",
        "          ToTensorV2(),\n",
        "      ],\n",
        "  )\n",
        "\n",
        "  model =UNET(in_channels=3, out_channels=1).to(DEVICE)\n",
        "  #loss_fn = nn.BCEWithLogitsLoss() #change to for std softmax\n",
        "  loss_fn = DiceLoss(mode='binary')\n",
        "\n",
        "\n",
        "  optimizer = optim.Adam(model.parameters(), lr=LEARNING_RATE)\n",
        "\n",
        "\n",
        "  train_loader, val_loader = get_loaders(\n",
        "      TRAIN_IMG_DIR,\n",
        "      TRAIN_MASK_DIR,\n",
        "      VAL_IMG_DIR,\n",
        "      VAL_MASK_DIR,\n",
        "      BATCH_SIZE,\n",
        "      train_transform,\n",
        "      val_transforms,\n",
        "      NUM_WORKERS,\n",
        "      PIN_MEMORY,)\n",
        "\n",
        "  scaler = torch.cuda.amp.GradScaler(enabled=True)\n",
        "  for epoch in range(NUM_EPOCHS):\n",
        "    train_fn(train_loader,model,optimizer, loss_fn, scaler)\n",
        "\n",
        "    checkpoint ={\"state_dict\": model.state_dict(),\n",
        "                 \"optimizer\":optimizer.state_dict(),\n",
        "                 }\n",
        "    save_checkpoint(checkpoint)\n",
        "\n",
        "    check_accuracy(val_loader, model, device= DEVICE)\n",
        "    save_predictions_as_imgs(\n",
        "        val_loader, model, folder= \"/content/drive/MyDrive/saved_images/\", device= DEVICE\n",
        "    )\n",
        "\n",
        "\n",
        "\n",
        "if __name__ ==\"__main__\":\n",
        "  main()\n"
      ],
      "metadata": {
        "id": "mjnsAXDGNHqt",
        "colab": {
          "base_uri": "https://localhost:8080/"
        },
        "outputId": "70a72c66-c754-4130-e24a-95df0827ddc5"
      },
      "execution_count": null,
      "outputs": [
        {
          "output_type": "stream",
          "name": "stderr",
          "text": [
            "<ipython-input-32-1aeec6826bd5>:105: FutureWarning: `torch.cuda.amp.GradScaler(args...)` is deprecated. Please use `torch.amp.GradScaler('cuda', args...)` instead.\n",
            "  scaler = torch.cuda.amp.GradScaler(enabled=True)\n",
            "  0%|          | 0/64 [00:00<?, ?it/s]<ipython-input-32-1aeec6826bd5>:40: FutureWarning: `torch.cuda.amp.autocast(args...)` is deprecated. Please use `torch.amp.autocast('cuda', args...)` instead.\n",
            "  with torch.cuda.amp.autocast(enabled=True):\n",
            "100%|██████████| 64/64 [00:51<00:00,  1.25it/s, loss=0.607]\n"
          ]
        },
        {
          "output_type": "stream",
          "name": "stdout",
          "text": [
            "=> Saving checkpoint\n",
            "Got  1785808/1843200 with acc 96.89\n",
            "Dice score: 0.9256641864776611\n"
          ]
        },
        {
          "output_type": "stream",
          "name": "stderr",
          "text": [
            "100%|██████████| 64/64 [00:43<00:00,  1.48it/s, loss=0.61]\n"
          ]
        },
        {
          "output_type": "stream",
          "name": "stdout",
          "text": [
            "=> Saving checkpoint\n",
            "Got  1714238/1843200 with acc 93.00\n",
            "Dice score: 0.8472360372543335\n"
          ]
        },
        {
          "output_type": "stream",
          "name": "stderr",
          "text": [
            "100%|██████████| 64/64 [00:41<00:00,  1.54it/s, loss=0.632]\n"
          ]
        },
        {
          "output_type": "stream",
          "name": "stdout",
          "text": [
            "=> Saving checkpoint\n",
            "Got  1792610/1843200 with acc 97.26\n",
            "Dice score: 0.9338880777359009\n"
          ]
        }
      ]
    },
    {
      "cell_type": "code",
      "source": [
        "#utils\n",
        "import torch\n",
        "import torchvision\n",
        "#from dataset import CarvanaDataset\n",
        "from torch.utils.data import DataLoader\n",
        "\n",
        "def save_checkpoint(state, filename=\"my_checkpoint.pth.tar\"):\n",
        "  print(\"=> Saving checkpoint\")\n",
        "  torch.save(state,filename)\n",
        "\n",
        "def load_checkpoint(checkpoint,model):\n",
        "  print(\"=> Loading checkpoint\")\n",
        "  model.load_state_dict(checkpoint[\"state_dict\"])\n",
        "\n",
        "def get_loaders(\n",
        "    train_dir,\n",
        "    train_maskdir,\n",
        "    val_dir,\n",
        "    val_maskdir,\n",
        "    batch_size,\n",
        "    train_transform,\n",
        "    val_transfrom,\n",
        "    num_workers=4,\n",
        "    pin_memory=True,\n",
        "):\n",
        "  train_ds= CarvanaDataset(\n",
        "      image_dir=train_dir,\n",
        "      mask_dir=train_maskdir,\n",
        "      transform=train_transform,\n",
        "  )\n",
        "\n",
        "  train_loader = DataLoader(\n",
        "      train_ds,\n",
        "      batch_size=batch_size,\n",
        "      num_workers=num_workers,\n",
        "      pin_memory=pin_memory,\n",
        "      shuffle=True,\n",
        "  )\n",
        "  val_ds = CarvanaDataset(\n",
        "      image_dir=val_dir,\n",
        "      mask_dir=val_maskdir,\n",
        "      transform=val_transfrom,\n",
        "      )\n",
        "  val_loader = DataLoader(\n",
        "      val_ds,\n",
        "      batch_size=batch_size,\n",
        "      num_workers=num_workers,\n",
        "      pin_memory=pin_memory,\n",
        "      shuffle=False,\n",
        "  )\n",
        "\n",
        "  return train_loader, val_loader\n",
        "def check_accuracy(loader, model, device=\"cuda\"):\n",
        "  num_correct = 0\n",
        "  num_pixels=0\n",
        "  dice_score=0\n",
        "  model.eval()\n",
        "\n",
        "  with torch.no_grad():\n",
        "    for x,y in loader:\n",
        "      x=x.to(device)\n",
        "      y=y.to(device).unsqueeze(1)\n",
        "      # preds = torch.sigmoid(model(x))\n",
        "      preds = STDsoftmax(model(x))\n",
        "      preds=(preds>0.5).float()\n",
        "      num_correct+=(preds==y).sum()\n",
        "      num_pixels+=torch.numel(preds)\n",
        "      dice_score += (2*(preds*y).sum())/((preds+y).sum()+1e-8)\n",
        "  print(f\"Got  {num_correct}/{num_pixels} with acc {num_correct/num_pixels*100:.2f}\")\n",
        "  print(f\"Dice score: {dice_score/len(loader)}\")\n",
        "  model.train()\n",
        "\n",
        "def save_predictions_as_imgs(\n",
        "    loader, model, folder=\"/content/drive/MyDrive/saved_images/\", device=\"cuda\"\n",
        "):\n",
        "    model.eval()\n",
        "    for idx, (x,y) in enumerate(loader):\n",
        "      x=x.to(device=device)\n",
        "      with torch.no_grad():\n",
        "        # preds = torch.sigmoid(model(x))\n",
        "        preds = STDsoftmax(model(x))\n",
        "        preds = (preds>0.5).float()\n",
        "      torchvision.utils.save_image(\n",
        "          preds, f\"{folder}/pred_{idx}.png\"\n",
        "      )\n",
        "      #torchvision.utils.save_image(y.unsqueeze(1), f\"{folder}\")\n",
        "\n",
        "    model.train()\n",
        "\n"
      ],
      "metadata": {
        "id": "saZhyNNJ5_BV"
      },
      "execution_count": null,
      "outputs": []
    },
    {
      "cell_type": "markdown",
      "source": [
        "New activation function soft threshold dynamics"
      ],
      "metadata": {
        "id": "LWV0-wcV9gZ7"
      }
    },
    {
      "cell_type": "code",
      "source": [
        "# Use: replace torch.sigmoid() with STDsoftmax()\n",
        "import torch\n",
        "import numpy as np\n",
        "import torch.nn.functional as F\n",
        "\n",
        "# Softmax function: converts input features into probability distribution\n",
        "  # Probability values all between 0 and 1\n",
        "  # Sum of all probabiltites is equal to 1\n",
        "def softmax(o):\n",
        "    return torch.exp(o)/torch.sum(torch.exp(o), dim=1,keepdim=True)\n",
        "    # dim=1: sum across specified dimension (cols for each row in tensor)\n",
        "    # keepdim=True: output tensor has same dimension as input tensor\n",
        "\n",
        "# Function to create a Gaussian kernel from HW (Dr. Guo)\n",
        "  # Input the Kernel Size (size) and the Standard Deviation (sigma)\n",
        "  # Outputs tensor compatible with pytorch\n",
        "def gaussian_kernel(size, sigma):\n",
        "    \"\"\"Generate a Gaussian kernel.\"\"\"\n",
        "    x = np.linspace(-size//2, size//2, size)\n",
        "    y = np.linspace(-size//2, size//2, size)\n",
        "    x, y = np.meshgrid(x, y)\n",
        "    kernel = np.exp(-(x**2 + y**2) / (2 * sigma**2))\n",
        "    kernel = kernel / np.sum(kernel)\n",
        "    # Convert np array to pytorch tensor\n",
        "    return torch.tensor(kernel, dtype=torch.float32)\n",
        "\n",
        "# Define new activation function: STDsoftmax\n",
        "  # Following STD Softmax Algorithm 3.1\n",
        "  # Input: feature o\n",
        "  # Output: soft segmentation function u\n",
        "def STDsoftmax(o):\n",
        "  epsilon = 0.1 # smoothing parameter\n",
        "  l = 0.75 # regularization parameter\n",
        "  iterations = 10 # set fixed number of iteration\n",
        "\n",
        "  # Initialize\n",
        "  u = torch.sigmoid(o) # start with standard softmax function\n",
        "\n",
        "  b,c,h,w = o.size() # o a tensor: batch, channels, height, and width shapes\n",
        "  # want channels size for convolution operations\n",
        "\n",
        "  # need u0 and kernel to define p0\n",
        "\n",
        "  # Gaussian kernel (k)\n",
        "  n = 7 # set size of kernel 7x7 in paper\n",
        "  stdev = 5 # standard deviation 5 in paper\n",
        "  k = gaussian_kernel(n,stdev).unsqueeze(0).unsqueeze(0)\n",
        "  # adjust shape of kernel to be compatible with pytorch\n",
        "    # add dimensions for channels: [n,n] --> [1,1,n,n]\n",
        "    # expected shape: [out_channels, in_channels, height, width]\n",
        "  k = k.expand(c,1,n,n).to(o.device) # depthwise convolution\n",
        "    # repeat kernel across input channels\n",
        "  p = l*F.conv2d(1-2*u,k, groups =c, padding = \"same\")\n",
        "  # F.conv2d(input, weight,bias,stride,padding,dilation,groups) from torch.nn.functional\n",
        "\n",
        "  # We will set fixed number of iterations, rather than checking convergence\n",
        "  for i in range(iterations):\n",
        "    # Solution of minimization problem using STD softmax\n",
        "    u = torch.sigmoid((o-p)/epsilon) # update u\n",
        "    # set e = 1, so that simplifies to: p^t = lambda k * (1-2u^t)\n",
        "      # e is weighting function\n",
        "      # k is Gaussian kernel\n",
        "    p = l*F.conv2d(1 - 2*u,k, groups =c, padding = \"same\")\n",
        "\n",
        "  return u"
      ],
      "metadata": {
        "id": "BYrvTvZIVhzS"
      },
      "execution_count": null,
      "outputs": []
    },
    {
      "cell_type": "markdown",
      "source": [
        "Sigmoid function"
      ],
      "metadata": {
        "id": "O6AYEfkl9uXM"
      }
    },
    {
      "cell_type": "code",
      "source": [
        "# Plot of Standard Sigmoid Function\n",
        "import torch\n",
        "import matplotlib.pyplot as plt\n",
        "\n",
        "# create a PyTorch tensor\n",
        "x = torch.linspace(-10, 10, 100)\n",
        "\n",
        "# apply the logistic activation function to the tensor\n",
        "y = torch.sigmoid(x)\n",
        "\n",
        "# plot the results\n",
        "plt.plot(x.numpy(), y.numpy())\n",
        "plt.xlabel('Input')\n",
        "plt.ylabel('Output')\n",
        "plt.title('Logistic (Sigmoid) Activation Function')\n",
        "plt.show()\n"
      ],
      "metadata": {
        "id": "bHKVDvjk9lSZ",
        "colab": {
          "base_uri": "https://localhost:8080/",
          "height": 472
        },
        "outputId": "a0a1889f-d183-4491-89eb-f25d252d8297"
      },
      "execution_count": null,
      "outputs": [
        {
          "output_type": "display_data",
          "data": {
            "text/plain": [
              "<Figure size 640x480 with 1 Axes>"
            ],
            "image/png": "[encoded data removed]"
          },
          "metadata": {}
        }
      ]
    }
  ]
}